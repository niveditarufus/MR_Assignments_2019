{
 "cells": [
  {
   "cell_type": "markdown",
   "metadata": {},
   "source": [
    "# Camera projection points\n",
    "---"
   ]
  },
  {
   "cell_type": "code",
   "execution_count": 1,
   "metadata": {},
   "outputs": [
    {
     "name": "stdout",
     "output_type": "stream",
     "text": [
      "Camera pts shape (453620, 3)\n",
      "masked image array shape (356828, 2)\n",
      "output pts and colors shape (356828, 3) (356828, 3)\n",
      "Camera pts shape (453620, 3)\n",
      "masked image array shape (358718, 2)\n",
      "output pts and colors shape (358718, 3) (358718, 3)\n",
      "Camera pts shape (453620, 3)\n",
      "masked image array shape (349554, 2)\n",
      "output pts and colors shape (349554, 3) (349554, 3)\n",
      "Camera pts shape (453620, 3)\n",
      "masked image array shape (350427, 2)\n",
      "output pts and colors shape (350427, 3) (350427, 3)\n",
      "Camera pts shape (453620, 3)\n",
      "masked image array shape (350343, 2)\n",
      "output pts and colors shape (350343, 3) (350343, 3)\n",
      "Camera pts shape (453620, 3)\n",
      "masked image array shape (345008, 2)\n",
      "output pts and colors shape (345008, 3) (345008, 3)\n",
      "Camera pts shape (453620, 3)\n",
      "masked image array shape (352616, 2)\n",
      "output pts and colors shape (352616, 3) (352616, 3)\n",
      "Camera pts shape (453620, 3)\n",
      "masked image array shape (356406, 2)\n",
      "output pts and colors shape (356406, 3) (356406, 3)\n",
      "Camera pts shape (453620, 3)\n",
      "masked image array shape (354092, 2)\n",
      "output pts and colors shape (354092, 3) (354092, 3)\n",
      "Camera pts shape (453620, 3)\n",
      "masked image array shape (353397, 2)\n",
      "output pts and colors shape (353397, 3) (353397, 3)\n",
      "Camera pts shape (453620, 3)\n",
      "masked image array shape (343768, 2)\n",
      "output pts and colors shape (343768, 3) (343768, 3)\n",
      "Camera pts shape (453620, 3)\n",
      "masked image array shape (333421, 2)\n",
      "output pts and colors shape (333421, 3) (333421, 3)\n",
      "Camera pts shape (453620, 3)\n",
      "masked image array shape (327927, 2)\n",
      "output pts and colors shape (327927, 3) (327927, 3)\n",
      "Camera pts shape (453620, 3)\n",
      "masked image array shape (327021, 2)\n",
      "output pts and colors shape (327021, 3) (327021, 3)\n",
      "Camera pts shape (453620, 3)\n",
      "masked image array shape (326494, 2)\n",
      "output pts and colors shape (326494, 3) (326494, 3)\n",
      "Camera pts shape (453620, 3)\n",
      "masked image array shape (326896, 2)\n",
      "output pts and colors shape (326896, 3) (326896, 3)\n",
      "Camera pts shape (453620, 3)\n",
      "masked image array shape (326068, 2)\n",
      "output pts and colors shape (326068, 3) (326068, 3)\n",
      "Camera pts shape (453620, 3)\n",
      "masked image array shape (324767, 2)\n",
      "output pts and colors shape (324767, 3) (324767, 3)\n",
      "Camera pts shape (453620, 3)\n",
      "masked image array shape (326274, 2)\n",
      "output pts and colors shape (326274, 3) (326274, 3)\n",
      "Camera pts shape (453620, 3)\n",
      "masked image array shape (330040, 2)\n",
      "output pts and colors shape (330040, 3) (330040, 3)\n",
      "Camera pts shape (453620, 3)\n",
      "masked image array shape (326615, 2)\n",
      "output pts and colors shape (326615, 3) (326615, 3)\n"
     ]
    }
   ],
   "source": [
    "import numpy as np\n",
    "import cv2\n",
    "import os\n",
    "\n",
    "def get_LeftImages(i):\n",
    "    return cv2.imread('./images/img2/'+str(i)+'.png')\n",
    "\n",
    "def get_RightImages(i):\n",
    "    return cv2.imread('./images/img3/'+str(i)+'.png')\n",
    "\n",
    "def get_ground_truth():\n",
    "    file = 'poses.txt'\n",
    "    return np.genfromtxt(file, delimiter=' ',dtype=None)\n",
    "\n",
    "def get_transformation_matrix(T34):\n",
    "    M = np.empty((4, 4))\n",
    "    M[:3, :3] = T34[:3, :3]\n",
    "    M[:3, 3] = T34[:3, 3]\n",
    "    M[3, :] = [0, 0, 0, 1]\n",
    "    return M\n",
    "\n",
    "def write_ply(fn, verts, colors):\n",
    "    ply_header = '''ply\n",
    "    format ascii 1.0\n",
    "    element vertex %(vert_num)d\n",
    "    property float x\n",
    "    property float y\n",
    "    property float z\n",
    "    property uchar red\n",
    "    property uchar green\n",
    "    property uchar blue\n",
    "    end_header\n",
    "    '''\n",
    "    verts = verts.reshape(-1, 3)\n",
    "    colors = colors.reshape(-1, 3)\n",
    "    verts = np.hstack([verts, colors])\n",
    "    with open(fn, 'w') as f:\n",
    "        f.write(ply_header % dict(vert_num=len(verts)))\n",
    "        np.savetxt(f, verts, '%f %f %f %d %d %d')\n",
    "\n",
    "\n",
    "K = np.array([[7.070912e+02, 0.000000e+00, 6.018873e+02], [0.000000e+00, 7.070912e+02, 1.831104e+02], [0.000000e+00, 0.000000e+00, 1.000000e+00]])\n",
    "baseline = 0.53790448812\n",
    "win_size = 3\n",
    "f = K[0,0]\n",
    "T = np.eye(4)\n",
    "ground_truth =get_ground_truth()\n",
    "for i in range(21):\n",
    "    l_image = get_LeftImages(i)\n",
    "    r_image = get_RightImages(i)\n",
    "    shape = l_image.shape \n",
    "\n",
    "    stereo = cv2.StereoSGBM_create(minDisparity= 16,numDisparities = 80,blockSize = 5,uniquenessRatio = 10,speckleWindowSize = 1,speckleRange = 32,disp12MaxDiff = 1,P1 = 8*3*win_size**2,P2 =32*3*win_size**2) \n",
    "\n",
    "    disparity = stereo.compute(l_image,r_image)\n",
    "    q = np.array([[baseline, 0, 0, 0],[0, baseline, 0, 0],[0, 0, baseline*f, 0],[0, 0, 0, -1]])\n",
    "\n",
    "    cv2.imwrite(\"disparity_map\"+str(i)+\".png\",disparity-100)\n",
    "    camera_pts = []\n",
    "    temp1 = []\n",
    "    q = np.array([[baseline, 0, 0, 0],[0, baseline, 0, 0],[0, 0, baseline*f, 0],[0, 0, 0, -1]])\n",
    "    for j in range(disparity.shape[0]):\n",
    "        for k in range(disparity.shape[1]):\n",
    "            temp = np.array([k-(shape[1]/2),j-(shape[0]/2),1,disparity[j,k]])\n",
    "            temp1.append([k-(shape[1]/2),j-(shape[0]/2)])\n",
    "\n",
    "            temp = np.reshape(temp,(4,1))\n",
    "            temp = np.matmul(q,temp)\n",
    "            camera_pts.append(temp)\n",
    "\n",
    "\n",
    "    camera_pts = np.asarray(camera_pts)\n",
    "    temp1 = np.asarray(temp1)\n",
    "    camera_pts = np.reshape(camera_pts,(camera_pts.shape[0],camera_pts.shape[1]))\n",
    "\n",
    "    #T= get_transformation_matrix(ground_truth[i].reshape(3,4))\n",
    "    camera_pts = np.dot(T,camera_pts.T)\n",
    "\n",
    "    \n",
    "    camera_pts = camera_pts/camera_pts[3,:]\n",
    "    camera_pts = camera_pts.T\n",
    "\n",
    "    camera_pts = camera_pts[:,:3]\n",
    "    print(\"Camera pts shape\",camera_pts.shape)\n",
    "    \n",
    "\n",
    "    mask_map = disparity > disparity.min()\n",
    "    colors = cv2.cvtColor(l_image, cv2.COLOR_BGR2RGB)\n",
    "    output_colors = colors[mask_map]\n",
    "    mask_map = mask_map.ravel()\n",
    "    output_points = camera_pts[mask_map]\n",
    "    temp1 = temp1[mask_map]\n",
    "    print(\"masked image array shape\",temp1.shape)\n",
    "\n",
    "\n",
    "    if i == 0 :\n",
    "        total_stack = output_points\n",
    "        total_col = output_colors\n",
    "    else :\n",
    "        total_stack = np.vstack((total_stack,output_points))\n",
    "        total_col = np.vstack((total_col,output_colors))\n",
    "        \n",
    "    print('output pts and colors shape',output_points.shape,output_colors.shape)\n",
    "    output_file = 'out_camera'+str(i)+'.ply'\n",
    "    write_ply(output_file,output_points, output_colors)\n",
    "    \n",
    "    np.savetxt('temp'+str(i)+'.txt', temp1, delimiter=' ')"
   ]
  },
  {
   "cell_type": "code",
   "execution_count": 2,
   "metadata": {},
   "outputs": [
    {
     "name": "stdout",
     "output_type": "stream",
     "text": [
      "(4, 1)\n",
      "(326615, 2)\n"
     ]
    }
   ],
   "source": [
    "print(temp.shape)\n",
    "print(temp1.shape)"
   ]
  },
  {
   "cell_type": "markdown",
   "metadata": {},
   "source": [
    "# Plotting camera coordinates\n",
    "---"
   ]
  },
  {
   "cell_type": "code",
   "execution_count": 3,
   "metadata": {},
   "outputs": [
    {
     "name": "stdout",
     "output_type": "stream",
     "text": [
      "Load a ply point cloud, print it, and render it\n",
      "[[ 0.39426   0.141353 -0.540266]\n",
      " [ 0.326675  0.117349 -0.448523]\n",
      " [ 0.32451   0.116799 -0.446417]\n",
      " ...\n",
      " [-0.552492 -0.167753 -0.644657]\n",
      " [-0.553403 -0.167753 -0.644657]\n",
      " [-0.554315 -0.167753 -0.644657]]\n"
     ]
    }
   ],
   "source": [
    "import numpy as np\n",
    "import open3d as o3d  \n",
    "\n",
    "def main():\n",
    "    print(\"Load a ply point cloud, print it, and render it\")\n",
    "    pcd = o3d.io.read_point_cloud(\"out_camera0.ply\")\n",
    "    print(np.asarray(pcd.points))\n",
    "    o3d.visualization.draw_geometries([pcd]) \n",
    "\n",
    "if __name__ == \"__main__\":\n",
    "    main()"
   ]
  },
  {
   "cell_type": "markdown",
   "metadata": {},
   "source": [
    "# Ploting the 3d scene (all combined) for camera\n",
    "---"
   ]
  },
  {
   "cell_type": "code",
   "execution_count": 4,
   "metadata": {},
   "outputs": [
    {
     "name": "stdout",
     "output_type": "stream",
     "text": [
      "(7146680, 3)\n",
      "(7146680, 3)\n",
      "(7146680, 3) (7146680, 3)\n"
     ]
    }
   ],
   "source": [
    "print(total_stack.shape)\n",
    "print(total_col.shape)\n",
    "output_points= total_stack\n",
    "output_colors = total_col\n",
    "output_file = 'out_c.ply'\n",
    "write_ply(output_file,output_points, output_colors)\n",
    "print(output_points.shape,output_colors.shape)"
   ]
  },
  {
   "cell_type": "code",
   "execution_count": 5,
   "metadata": {},
   "outputs": [
    {
     "name": "stdout",
     "output_type": "stream",
     "text": [
      "Load a ply point cloud, print it, and render it\n",
      "[[ 0.39426   0.141353 -0.540266]\n",
      " [ 0.326675  0.117349 -0.448523]\n",
      " [ 0.32451   0.116799 -0.446417]\n",
      " ...\n",
      " [-0.273    -0.082755 -0.318016]\n",
      " [-0.272311 -0.08241  -0.316692]\n",
      " [-0.272759 -0.08241  -0.316692]]\n"
     ]
    }
   ],
   "source": [
    "def main():\n",
    "    print(\"Load a ply point cloud, print it, and render it\")\n",
    "    pcd = o3d.io.read_point_cloud(\"out_c.ply\")\n",
    "    print(np.asarray(pcd.points))\n",
    "    o3d.visualization.draw_geometries([pcd]) \n",
    "\n",
    "if __name__ == \"__main__\":\n",
    "    main()"
   ]
  },
  {
   "cell_type": "markdown",
   "metadata": {},
   "source": [
    "# World point coordinates\n",
    "---"
   ]
  },
  {
   "cell_type": "code",
   "execution_count": 6,
   "metadata": {},
   "outputs": [],
   "source": [
    "import numpy as np\n",
    "import cv2\n",
    "import os\n",
    "\n",
    "def get_LeftImages(i):\n",
    "    return cv2.imread('./images/img2/'+str(i)+'.png')\n",
    "\n",
    "def get_RightImages(i):\n",
    "    return cv2.imread('./images/img3/'+str(i)+'.png')\n",
    "\n",
    "def get_ground_truth():\n",
    "    file = 'poses.txt'\n",
    "    return np.genfromtxt(file, delimiter=' ',dtype=None)\n",
    "\n",
    "def get_transformation_matrix(T34):\n",
    "    M = np.empty((4, 4))\n",
    "    M[:3, :3] = T34[:3, :3]\n",
    "    M[:3, 3] = T34[:3, 3]\n",
    "    M[3, :] = [0, 0, 0, 1]\n",
    "    return M\n",
    "\n",
    "def write_ply(fn, verts, colors):\n",
    "    ply_header = '''ply\n",
    "    format ascii 1.0\n",
    "    element vertex %(vert_num)d\n",
    "    property float x\n",
    "    property float y\n",
    "    property float z\n",
    "    property uchar red\n",
    "    property uchar green\n",
    "    property uchar blue\n",
    "    end_header\n",
    "    '''\n",
    "    verts = verts.reshape(-1, 3)\n",
    "    colors = colors.reshape(-1, 3)\n",
    "    verts = np.hstack([verts, colors])\n",
    "    with open(fn, 'w') as f:\n",
    "        f.write(ply_header % dict(vert_num=len(verts)))\n",
    "        np.savetxt(f, verts, '%f %f %f %d %d %d')\n",
    "\n",
    "\n",
    "K = np.array([[7.070912e+02, 0.000000e+00, 6.018873e+02], [0.000000e+00, 7.070912e+02, 1.831104e+02], [0.000000e+00, 0.000000e+00, 1.000000e+00]])\n",
    "baseline = 0.53790448812\n",
    "win_size = 3\n",
    "f = K[0,0]\n",
    "\n",
    "T = np.eye(4)\n",
    "ground_truth =get_ground_truth()\n",
    "for i in range(21):\n",
    "    l_image = get_LeftImages(i)\n",
    "    r_image = get_RightImages(i)\n",
    "    shape = l_image.shape \n",
    "\n",
    "    stereo = cv2.StereoSGBM_create(minDisparity= 16,numDisparities = 80,blockSize = 5,uniquenessRatio = 10,speckleWindowSize = 1,speckleRange = 32,disp12MaxDiff = 1,P1 = 8*3*win_size**2,P2 =32*3*win_size**2) \n",
    "    disparity = stereo.compute(l_image,r_image)/16.0\n",
    "    disparity = disparity/80.0\n",
    "    q = np.array([[baseline, 0, 0, 0],[0, baseline, 0, 0],[0, 0, baseline*f, 0],[0, 0, 0, -1]])\n",
    "\n",
    "    cv2.imwrite(\"disparity_map\"+str(i)+\".png\",disparity-100)\n",
    "    camera_pts = []\n",
    "    temp1 = []\n",
    "    for j in range(disparity.shape[0]):\n",
    "        for k in range(disparity.shape[1]):\n",
    "\n",
    "            temp = np.array([k,j,1,disparity[j,k]])\n",
    "            temp1.append(np.array([k,j]))\n",
    "            temp = np.reshape(temp,(4,1))\n",
    "            temp = np.matmul(q,temp)\n",
    "            camera_pts.append(temp)\n",
    "\n",
    "\n",
    "    camera_pts = np.asarray(camera_pts)\n",
    "    temp1 = np.asarray(temp1)\n",
    "    camera_pts = np.reshape(camera_pts,(camera_pts.shape[0],camera_pts.shape[1]))\n",
    "#     print(\"World points shape\",camera_pts.shape)\n",
    "\n",
    "\n",
    "    T0= get_transformation_matrix(ground_truth[i].reshape(3,4))\n",
    "    T= get_transformation_matrix(ground_truth[i].reshape(3,4))\n",
    "    camera_pts = np.dot(T,camera_pts.T)\n",
    "\n",
    "    \n",
    "    camera_pts = camera_pts/camera_pts[3,:]\n",
    "    camera_pts = camera_pts.T\n",
    "    camera_pts = camera_pts[:,:3]\n",
    "\n",
    "    \n",
    "\n",
    "#     print(\"World points shape final\",camera_pts.shape)\n",
    "    \n",
    "\n",
    "    mask_map = disparity > disparity.min()\n",
    "    colors = cv2.cvtColor(l_image, cv2.COLOR_BGR2RGB)\n",
    "    output_colors = colors[mask_map]\n",
    "    \n",
    "    mask_map = mask_map.ravel()\n",
    "\n",
    "    output_points = camera_pts[mask_map]\n",
    "    temp1 = temp1[mask_map]\n",
    "#     print(\"masked image array shape\",temp1.shape)\n",
    "\n",
    "\n",
    "    if i == 0 :\n",
    "        total_stack = output_points\n",
    "        total_col = output_colors\n",
    "    else :\n",
    "        total_stack = np.vstack((total_stack,output_points))\n",
    "        total_col = np.vstack((total_col,output_colors))\n",
    "#     print('output points, colors shape',output_points.shape,output_colors.shape)\n",
    "    output_file = 'out_world'+str(i)+'.ply'\n",
    "    write_ply(output_file,output_points, output_colors)\n",
    "\n",
    "    \n",
    "    np.savetxt('temp'+str(i)+'.txt', temp1, delimiter=' ')"
   ]
  },
  {
   "cell_type": "markdown",
   "metadata": {},
   "source": [
    "# Plotting output world\n",
    "---"
   ]
  },
  {
   "cell_type": "code",
   "execution_count": 7,
   "metadata": {},
   "outputs": [
    {
     "name": "stdout",
     "output_type": "stream",
     "text": [
      "Load a ply point cloud, print it, and render it\n",
      "[[ 183.488652  -30.440656  644.689787]\n",
      " [ 121.266083  -24.987338  544.077758]\n",
      " [ 120.552764  -24.894523  541.44407 ]\n",
      " ...\n",
      " [1422.999763 -520.486973  209.388427]\n",
      " [1424.061544 -520.535027  208.906606]\n",
      " [1425.123326 -520.583082  208.424785]]\n"
     ]
    }
   ],
   "source": [
    "import numpy as np\n",
    "import open3d as o3d  \n",
    "\n",
    "def main():\n",
    "    print(\"Load a ply point cloud, print it, and render it\")\n",
    "    pcd = o3d.io.read_point_cloud(\"out_world0.ply\")\n",
    "    print(np.asarray(pcd.points))\n",
    "    o3d.visualization.draw_geometries([pcd])\n",
    "\n",
    "if __name__ == \"__main__\":\n",
    "    main()"
   ]
  },
  {
   "cell_type": "markdown",
   "metadata": {},
   "source": [
    "# Ploting the 3d scene (all combined) for world\n",
    "---"
   ]
  },
  {
   "cell_type": "code",
   "execution_count": 8,
   "metadata": {},
   "outputs": [
    {
     "name": "stdout",
     "output_type": "stream",
     "text": [
      "(7146680, 3)\n",
      "(7146680, 3)\n",
      "(7146680, 3) (7146680, 3)\n"
     ]
    }
   ],
   "source": [
    "print(total_stack.shape)\n",
    "print(total_col.shape)\n",
    "output_points= total_stack\n",
    "output_colors = total_col\n",
    "output_file = 'out_w.ply'\n",
    "write_ply(output_file,output_points, output_colors)\n",
    "print(output_points.shape,output_colors.shape)"
   ]
  },
  {
   "cell_type": "code",
   "execution_count": 9,
   "metadata": {},
   "outputs": [
    {
     "name": "stdout",
     "output_type": "stream",
     "text": [
      "Load a ply point cloud, print it, and render it\n",
      "[[ 183.488652  -30.440656  644.689787]\n",
      " [ 121.266083  -24.987338  544.077758]\n",
      " [ 120.552764  -24.894523  541.44407 ]\n",
      " ...\n",
      " [ 207.343969 -254.234186  740.898573]\n",
      " [ 206.200994 -253.193095  738.29292 ]\n",
      " [ 206.694521 -253.218361  738.583525]]\n"
     ]
    }
   ],
   "source": [
    "def main():\n",
    "    print(\"Load a ply point cloud, print it, and render it\")\n",
    "    pcd = o3d.io.read_point_cloud(\"out_w.ply\")\n",
    "    print(np.asarray(pcd.points))\n",
    "    o3d.visualization.draw_geometries([pcd]) \n",
    "\n",
    "if __name__ == \"__main__\":\n",
    "    main()"
   ]
  }
 ],
 "metadata": {
  "kernelspec": {
   "display_name": "Python 3",
   "language": "python",
   "name": "python3"
  },
  "language_info": {
   "codemirror_mode": {
    "name": "ipython",
    "version": 3
   },
   "file_extension": ".py",
   "mimetype": "text/x-python",
   "name": "python",
   "nbconvert_exporter": "python",
   "pygments_lexer": "ipython3",
   "version": "3.6.8"
  }
 },
 "nbformat": 4,
 "nbformat_minor": 2
}
